{
 "cells": [
  {
   "cell_type": "code",
   "execution_count": 3,
   "id": "878b9309",
   "metadata": {},
   "outputs": [],
   "source": [
    "import torch\n",
    "import numpy as np"
   ]
  },
  {
   "cell_type": "code",
   "execution_count": null,
   "id": "3a83cfa0",
   "metadata": {},
   "outputs": [
    {
     "data": {
      "text/plain": [
       "array([[[0., 0.],\n",
       "        [0., 0.]],\n",
       "\n",
       "       [[0., 0.],\n",
       "        [0., 0.]]])"
      ]
     },
     "execution_count": 15,
     "metadata": {},
     "output_type": "execute_result"
    }
   ],
   "source": [
    "np_zeros= np.zeros((2,2,2))\n",
    "np_zeros\n"
   ]
  },
  {
   "cell_type": "code",
   "execution_count": 16,
   "id": "68868ea2",
   "metadata": {},
   "outputs": [
    {
     "name": "stdout",
     "output_type": "stream",
     "text": [
      "float64\n"
     ]
    }
   ],
   "source": [
    "print(np_zeros.dtype)"
   ]
  },
  {
   "cell_type": "code",
   "execution_count": 8,
   "id": "1b75fbd5",
   "metadata": {},
   "outputs": [
    {
     "name": "stdout",
     "output_type": "stream",
     "text": [
      "[[0.18437291 0.31927826 0.95657538 0.4023085 ]\n",
      " [0.84122476 0.67526731 0.28724533 0.48052248]\n",
      " [0.60191977 0.34629158 0.37181967 0.34754453]]\n",
      "2\n",
      "(3, 4)\n"
     ]
    }
   ],
   "source": [
    "np_arr = np.random.rand(3,4)\n",
    "print(np_arr)\n",
    "print(np.ndim(np_arr))\n",
    "print(np.shape(np_arr))\n"
   ]
  },
  {
   "cell_type": "code",
   "execution_count": 17,
   "id": "637eda9f",
   "metadata": {},
   "outputs": [
    {
     "name": "stdout",
     "output_type": "stream",
     "text": [
      "tensor([[0.3142, 0.3349, 0.4908, 0.0288],\n",
      "        [0.8227, 0.9697, 0.1226, 0.1664],\n",
      "        [0.3325, 0.8281, 0.1136, 0.0333]])\n",
      "2\n",
      "torch.Size([3, 4])\n",
      "torch.float32\n"
     ]
    }
   ],
   "source": [
    "tensor_2d = torch.rand(3,4)\n",
    "print(tensor_2d)\n",
    "print(np.ndim(tensor_2d))\n",
    "print(np.shape(tensor_2d))\n",
    "print(tensor_2d.dtype)"
   ]
  },
  {
   "cell_type": "code",
   "execution_count": 22,
   "id": "f4beda35",
   "metadata": {},
   "outputs": [
    {
     "name": "stdout",
     "output_type": "stream",
     "text": [
      "tensor([ 0,  1,  2,  3,  4,  5,  6,  7,  8,  9, 10, 11, 12, 13, 14, 15, 16, 17,\n",
      "        18, 19, 20, 21, 22, 23, 24, 25, 26, 27, 28, 29, 30, 31, 32, 33, 34, 35,\n",
      "        36, 37, 38, 39, 40, 41, 42, 43, 44, 45, 46, 47, 48, 49])\n",
      "tensor([[ 0,  1,  2,  3,  4,  5,  6,  7,  8,  9],\n",
      "        [10, 11, 12, 13, 14, 15, 16, 17, 18, 19],\n",
      "        [20, 21, 22, 23, 24, 25, 26, 27, 28, 29],\n",
      "        [30, 31, 32, 33, 34, 35, 36, 37, 38, 39],\n",
      "        [40, 41, 42, 43, 44, 45, 46, 47, 48, 49]])\n"
     ]
    }
   ],
   "source": [
    "torch1 = torch.arange(50)\n",
    "print(torch1)\n",
    "torch2 = torch1.reshape(5,-1)\n",
    "print(torch2)"
   ]
  },
  {
   "cell_type": "code",
   "execution_count": 25,
   "id": "3baa7470",
   "metadata": {},
   "outputs": [
    {
     "name": "stdout",
     "output_type": "stream",
     "text": [
      "tensor([[0, 1, 2, 3, 4],\n",
      "        [5, 6, 7, 8, 9]])\n"
     ]
    }
   ],
   "source": [
    "t1 = torch.arange(10)\n",
    "t2 = t1.view(2,5)\n",
    "print(t2)"
   ]
  },
  {
   "cell_type": "markdown",
   "id": "cfc26a44",
   "metadata": {},
   "source": [
    "difference btw view and reshape"
   ]
  },
  {
   "cell_type": "code",
   "execution_count": 28,
   "id": "f70d2822",
   "metadata": {},
   "outputs": [
    {
     "name": "stdout",
     "output_type": "stream",
     "text": [
      "tensor([  0,   1,   2,   3,   4, 444, 444, 444, 444, 444])\n",
      "tensor([[  0,   1,   2,   3,   4],\n",
      "        [444, 444, 444, 444, 444]])\n"
     ]
    }
   ],
   "source": [
    "t2[1] = 444\n",
    "print(t1)\n",
    "print(t2)"
   ]
  },
  {
   "cell_type": "code",
   "execution_count": 32,
   "id": "655b0a89",
   "metadata": {},
   "outputs": [
    {
     "name": "stdout",
     "output_type": "stream",
     "text": [
      "tensor([[   0,    1,    2,    3,    4,    5,    6,    7,    8,    9],\n",
      "        [  10,   11,   12,   13,   14,   15,   16,   17,   18,   19],\n",
      "        [  20,   21,   22, 5555,   24,   25,   26,   27,   28,   29],\n",
      "        [  30,   31,   32,   33,   34,   35,   36,   37,   38,   39],\n",
      "        [  40,   41,   42,   43,   44,   45,   46,   47,   48,   49]])\n",
      "tensor([   0,    1,    2,    3,    4,    5,    6,    7,    8,    9,   10,   11,\n",
      "          12,   13,   14,   15,   16,   17,   18,   19,   20,   21,   22, 5555,\n",
      "          24,   25,   26,   27,   28,   29,   30,   31,   32,   33,   34,   35,\n",
      "          36,   37,   38,   39,   40,   41,   42,   43,   44,   45,   46,   47,\n",
      "          48,   49])\n",
      "2\n",
      "torch.Size([5, 10])\n",
      "1\n",
      "torch.Size([50])\n"
     ]
    }
   ],
   "source": [
    "torch2[2,3] = 5555\n",
    "print(torch2)\n",
    "print(torch1)\n",
    "print(torch2.ndim)\n",
    "print(torch2.shape)\n",
    "print(torch1.ndim)\n",
    "print(torch1.shape)"
   ]
  },
  {
   "cell_type": "code",
   "execution_count": 33,
   "id": "1cfb24d3",
   "metadata": {},
   "outputs": [
    {
     "data": {
      "text/plain": [
       "tensor([ 4, 14, 24, 34, 44])"
      ]
     },
     "execution_count": 33,
     "metadata": {},
     "output_type": "execute_result"
    }
   ],
   "source": [
    "torch2[:,4]"
   ]
  }
 ],
 "metadata": {
  "kernelspec": {
   "display_name": "Python 3",
   "language": "python",
   "name": "python3"
  },
  "language_info": {
   "codemirror_mode": {
    "name": "ipython",
    "version": 3
   },
   "file_extension": ".py",
   "mimetype": "text/x-python",
   "name": "python",
   "nbconvert_exporter": "python",
   "pygments_lexer": "ipython3",
   "version": "3.8.10"
  }
 },
 "nbformat": 4,
 "nbformat_minor": 5
}
